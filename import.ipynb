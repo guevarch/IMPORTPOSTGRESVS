{
 "cells": [
  {
   "cell_type": "code",
   "execution_count": 9,
   "metadata": {},
   "outputs": [],
   "source": [
    "import psycopg2\n",
    "import csv\n",
    "from datetime import datetime\n",
    "\n",
    "# Connect to the PostgreSQL database\n",
    "conn = psycopg2.connect(database=\"postgres\",\n",
    "\t\t\t\t\t\tuser='postgres', password='postgres',\n",
    "\t\t\t\t\t\thost='127.0.0.1', port='5432'\n",
    ")"
   ]
  },
  {
   "cell_type": "code",
   "execution_count": null,
   "metadata": {},
   "outputs": [],
   "source": [
    "# Open a cursor to perform database operations\n",
    "cur = conn.cursor()\n",
    "\n",
    "# Read the data from the CSV file and insert it into the database\n",
    "with open('titles.csv', 'r') as f:\n",
    "    reader = csv.reader(f)\n",
    "    next(reader) # Skip the header row.\n",
    "    for row in reader:\n",
    "        title_id = (row[0])\n",
    "        title = row[1]\n",
    "        cur.execute(\n",
    "            \"INSERT INTO titles (title_id, title) VALUES (%s, %s)\",\n",
    "            (title_id, title)\n",
    "        )\n",
    "\n",
    "# Commit the transaction and close the cursor and connection\n",
    "conn.commit()"
   ]
  },
  {
   "cell_type": "code",
   "execution_count": 26,
   "metadata": {},
   "outputs": [],
   "source": [
    "# Open a cursor to perform database operations\n",
    "cur = conn.cursor()\n",
    "\n",
    "# Read the data from the CSV file and insert it into the database\n",
    "with open('employees.csv', 'r') as f:\n",
    "    reader = csv.reader(f)\n",
    "    next(reader) # Skip the header row.\n",
    "    for row in reader:\n",
    "        emp_no = row[0]\n",
    "        emp_title_id = row[1]\n",
    "        birth_date_obj = datetime.strptime(row[2], '%m/%d/%Y')\n",
    "        birth_date = birth_date_obj.strftime('%Y-%m-%d')\n",
    "        first_name = row[3]\n",
    "        last_name = row[4]\n",
    "        sex = row[5]\n",
    "        hire_date_obj = datetime.strptime(row[6], '%m/%d/%Y')\n",
    "        hire_date = hire_date_obj.strftime('%Y-%m-%d')\n",
    "        cur.execute(\n",
    "            \"INSERT INTO employees (emp_no, emp_title_id, birth_date, first_name, last_name, sex, hire_date) VALUES (%s, %s,%s, %s,%s, %s,%s)\",\n",
    "            (emp_no, emp_title_id, birth_date, first_name, last_name, sex, hire_date)\n",
    "        )\n",
    "\n",
    "\n",
    "# Commit the transaction and close the cursor and connection\n",
    "conn.commit()"
   ]
  },
  {
   "cell_type": "code",
   "execution_count": 5,
   "metadata": {},
   "outputs": [],
   "source": [
    "# Open a cursor to perform database operations\n",
    "cur = conn.cursor()\n",
    "\n",
    "# Read the data from the CSV file and insert it into the database\n",
    "with open('departments.csv', 'r') as f:\n",
    "    reader = csv.reader(f)\n",
    "    next(reader) # Skip the header row.\n",
    "    for row in reader:\n",
    "        dept_no = (row[0])\n",
    "        dept_name = row[1]\n",
    "        cur.execute(\n",
    "            \"INSERT INTO departments (dept_no, dept_name) VALUES (%s, %s)\",\n",
    "            (dept_no, dept_name)\n",
    "        )\n",
    "\n",
    "# Commit the transaction and close the cursor and connection\n",
    "conn.commit()"
   ]
  },
  {
   "cell_type": "code",
   "execution_count": 6,
   "metadata": {},
   "outputs": [],
   "source": [
    "# Open a cursor to perform database operations\n",
    "cur = conn.cursor()\n",
    "\n",
    "# Read the data from the CSV file and insert it into the database\n",
    "with open('dept_manager.csv', 'r') as f:\n",
    "    reader = csv.reader(f)\n",
    "    next(reader) # Skip the header row.\n",
    "    for row in reader:\n",
    "        dept_no = (row[0])\n",
    "        emp_no = row[1]\n",
    "        cur.execute(\n",
    "            \"INSERT INTO dept_manager (dept_no, emp_no) VALUES (%s, %s)\",\n",
    "            (dept_no, emp_no)\n",
    "        )\n",
    "\n",
    "# Commit the transaction and close the cursor and connection\n",
    "conn.commit()"
   ]
  },
  {
   "cell_type": "code",
   "execution_count": 10,
   "metadata": {},
   "outputs": [],
   "source": [
    "# Open a cursor to perform database operations\n",
    "cur = conn.cursor()\n",
    "\n",
    "# Read the data from the CSV file and insert it into the database\n",
    "with open('dept_emp.csv', 'r') as f:\n",
    "    reader = csv.reader(f)\n",
    "    next(reader) # Skip the header row.\n",
    "    for row in reader:\n",
    "        emp_no = (row[0])\n",
    "        dept_no = row[1]\n",
    "        cur.execute(\n",
    "            \"INSERT INTO dept_emp (emp_no, dept_no) VALUES (%s, %s)\",\n",
    "            (emp_no, dept_no)\n",
    "        )\n",
    "\n",
    "# Commit the transaction and close the cursor and connection\n",
    "conn.commit()"
   ]
  },
  {
   "cell_type": "code",
   "execution_count": 11,
   "metadata": {},
   "outputs": [],
   "source": [
    "# Open a cursor to perform database operations\n",
    "cur = conn.cursor()\n",
    "\n",
    "# Read the data from the CSV file and insert it into the database\n",
    "with open('salaries.csv', 'r') as f:\n",
    "    reader = csv.reader(f)\n",
    "    next(reader) # Skip the header row.\n",
    "    for row in reader:\n",
    "        emp_no = (row[0])\n",
    "        salary = row[1]\n",
    "        cur.execute(\n",
    "            \"INSERT INTO salaries (emp_no, salary) VALUES (%s, %s)\",\n",
    "            (emp_no, salary)\n",
    "        )\n",
    "\n",
    "# Commit the transaction and close the cursor and connection\n",
    "conn.commit()\n",
    "cur.close()\n",
    "conn.close()"
   ]
  },
  {
   "cell_type": "code",
   "execution_count": null,
   "metadata": {},
   "outputs": [],
   "source": []
  }
 ],
 "metadata": {
  "kernelspec": {
   "display_name": "PythonData",
   "language": "python",
   "name": "pythondata"
  },
  "language_info": {
   "codemirror_mode": {
    "name": "ipython",
    "version": 3
   },
   "file_extension": ".py",
   "mimetype": "text/x-python",
   "name": "python",
   "nbconvert_exporter": "python",
   "pygments_lexer": "ipython3",
   "version": "3.9.12"
  },
  "orig_nbformat": 4
 },
 "nbformat": 4,
 "nbformat_minor": 2
}
